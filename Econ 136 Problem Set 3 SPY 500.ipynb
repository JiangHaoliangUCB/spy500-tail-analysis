{
 "cells": [
  {
   "cell_type": "markdown",
   "metadata": {},
   "source": [
    "# Econ 136 Problem Set 3 Question 2 The Return Profile and Risk of the S&P 500"
   ]
  },
  {
   "cell_type": "markdown",
   "metadata": {},
   "source": [
    "### Import all the necessary Python libraries"
   ]
  },
  {
   "cell_type": "code",
   "execution_count": 1,
   "metadata": {},
   "outputs": [],
   "source": [
    "%matplotlib inline\n",
    "import matplotlib.pyplot as plt\n",
    "import seaborn as sns\n",
    "import numpy as np\n",
    "import pandas as pd\n",
    "from matplotlib import pyplot, dates\n",
    "from matplotlib.ticker import FuncFormatter\n",
    "from scipy.stats import norm\n",
    "from math import *\n",
    "from scipy import stats\n",
    "\n",
    "plt.style.use('fivethirtyeight')\n",
    "sns.set_context(\"notebook\")"
   ]
  },
  {
   "cell_type": "markdown",
   "metadata": {},
   "source": [
    "### We first need to read the SPY 500's price table 'SPY.csv' data from Yahoo Finance###"
   ]
  },
  {
   "cell_type": "code",
   "execution_count": 2,
   "metadata": {},
   "outputs": [
    {
     "data": {
      "text/html": [
       "<div>\n",
       "<style scoped>\n",
       "    .dataframe tbody tr th:only-of-type {\n",
       "        vertical-align: middle;\n",
       "    }\n",
       "\n",
       "    .dataframe tbody tr th {\n",
       "        vertical-align: top;\n",
       "    }\n",
       "\n",
       "    .dataframe thead th {\n",
       "        text-align: right;\n",
       "    }\n",
       "</style>\n",
       "<table border=\"1\" class=\"dataframe\">\n",
       "  <thead>\n",
       "    <tr style=\"text-align: right;\">\n",
       "      <th></th>\n",
       "      <th>Date</th>\n",
       "      <th>Open</th>\n",
       "      <th>High</th>\n",
       "      <th>Low</th>\n",
       "      <th>Close</th>\n",
       "      <th>Adj Close</th>\n",
       "      <th>Volume</th>\n",
       "    </tr>\n",
       "  </thead>\n",
       "  <tbody>\n",
       "    <tr>\n",
       "      <th>0</th>\n",
       "      <td>1993-01-29</td>\n",
       "      <td>43.96875</td>\n",
       "      <td>43.96875</td>\n",
       "      <td>43.75000</td>\n",
       "      <td>43.93750</td>\n",
       "      <td>26.583992</td>\n",
       "      <td>1003200</td>\n",
       "    </tr>\n",
       "    <tr>\n",
       "      <th>1</th>\n",
       "      <td>1993-02-01</td>\n",
       "      <td>43.96875</td>\n",
       "      <td>44.25000</td>\n",
       "      <td>43.96875</td>\n",
       "      <td>44.25000</td>\n",
       "      <td>26.773048</td>\n",
       "      <td>480500</td>\n",
       "    </tr>\n",
       "    <tr>\n",
       "      <th>2</th>\n",
       "      <td>1993-02-02</td>\n",
       "      <td>44.21875</td>\n",
       "      <td>44.37500</td>\n",
       "      <td>44.12500</td>\n",
       "      <td>44.34375</td>\n",
       "      <td>26.829773</td>\n",
       "      <td>201300</td>\n",
       "    </tr>\n",
       "    <tr>\n",
       "      <th>3</th>\n",
       "      <td>1993-02-03</td>\n",
       "      <td>44.40625</td>\n",
       "      <td>44.84375</td>\n",
       "      <td>44.37500</td>\n",
       "      <td>44.81250</td>\n",
       "      <td>27.113388</td>\n",
       "      <td>529400</td>\n",
       "    </tr>\n",
       "    <tr>\n",
       "      <th>4</th>\n",
       "      <td>1993-02-04</td>\n",
       "      <td>44.96875</td>\n",
       "      <td>45.09375</td>\n",
       "      <td>44.46875</td>\n",
       "      <td>45.00000</td>\n",
       "      <td>27.226835</td>\n",
       "      <td>531500</td>\n",
       "    </tr>\n",
       "  </tbody>\n",
       "</table>\n",
       "</div>"
      ],
      "text/plain": [
       "         Date      Open      High       Low     Close  Adj Close   Volume\n",
       "0  1993-01-29  43.96875  43.96875  43.75000  43.93750  26.583992  1003200\n",
       "1  1993-02-01  43.96875  44.25000  43.96875  44.25000  26.773048   480500\n",
       "2  1993-02-02  44.21875  44.37500  44.12500  44.34375  26.829773   201300\n",
       "3  1993-02-03  44.40625  44.84375  44.37500  44.81250  27.113388   529400\n",
       "4  1993-02-04  44.96875  45.09375  44.46875  45.00000  27.226835   531500"
      ]
     },
     "execution_count": 2,
     "metadata": {},
     "output_type": "execute_result"
    }
   ],
   "source": [
    "spy_price=pd.read_csv('SPY.csv')\n",
    "spy_price.head()"
   ]
  },
  {
   "cell_type": "markdown",
   "metadata": {},
   "source": [
    "### Then read the dividend table 'SPY Dividend.csv' from Yahoo Finance as well ###"
   ]
  },
  {
   "cell_type": "code",
   "execution_count": 3,
   "metadata": {},
   "outputs": [
    {
     "data": {
      "text/html": [
       "<div>\n",
       "<style scoped>\n",
       "    .dataframe tbody tr th:only-of-type {\n",
       "        vertical-align: middle;\n",
       "    }\n",
       "\n",
       "    .dataframe tbody tr th {\n",
       "        vertical-align: top;\n",
       "    }\n",
       "\n",
       "    .dataframe thead th {\n",
       "        text-align: right;\n",
       "    }\n",
       "</style>\n",
       "<table border=\"1\" class=\"dataframe\">\n",
       "  <thead>\n",
       "    <tr style=\"text-align: right;\">\n",
       "      <th></th>\n",
       "      <th>Date</th>\n",
       "      <th>Dividends</th>\n",
       "    </tr>\n",
       "  </thead>\n",
       "  <tbody>\n",
       "    <tr>\n",
       "      <th>0</th>\n",
       "      <td>2011-12-16</td>\n",
       "      <td>0.770</td>\n",
       "    </tr>\n",
       "    <tr>\n",
       "      <th>1</th>\n",
       "      <td>2012-06-15</td>\n",
       "      <td>0.688</td>\n",
       "    </tr>\n",
       "    <tr>\n",
       "      <th>2</th>\n",
       "      <td>2016-09-16</td>\n",
       "      <td>1.082</td>\n",
       "    </tr>\n",
       "    <tr>\n",
       "      <th>3</th>\n",
       "      <td>1996-06-21</td>\n",
       "      <td>0.351</td>\n",
       "    </tr>\n",
       "    <tr>\n",
       "      <th>4</th>\n",
       "      <td>2017-03-17</td>\n",
       "      <td>1.033</td>\n",
       "    </tr>\n",
       "  </tbody>\n",
       "</table>\n",
       "</div>"
      ],
      "text/plain": [
       "         Date  Dividends\n",
       "0  2011-12-16      0.770\n",
       "1  2012-06-15      0.688\n",
       "2  2016-09-16      1.082\n",
       "3  1996-06-21      0.351\n",
       "4  2017-03-17      1.033"
      ]
     },
     "execution_count": 3,
     "metadata": {},
     "output_type": "execute_result"
    }
   ],
   "source": [
    "spy_dividend=pd.read_csv('SPY Dividend.csv')\n",
    "spy_dividend.head()"
   ]
  },
  {
   "cell_type": "markdown",
   "metadata": {},
   "source": [
    "### Transform the dates from string to numbers using the Matplotlib built-in object \"dates\", so that we can plot price vs date later"
   ]
  },
  {
   "cell_type": "code",
   "execution_count": 4,
   "metadata": {},
   "outputs": [
    {
     "data": {
      "text/plain": [
       "array([727592., 727595., 727596., ..., 737315., 737318., 737319.])"
      ]
     },
     "execution_count": 4,
     "metadata": {},
     "output_type": "execute_result"
    }
   ],
   "source": [
    "dates.datestr2num(spy_price['Date'])"
   ]
  },
  {
   "cell_type": "markdown",
   "metadata": {},
   "source": [
    "## Part (a) Create a graph of the Close Price of SPY as a function of time##\n",
    "### Step 1: Created a new dataframe which contains pandas dates, matplotlib dates object, and spy close prices\n",
    "### Step 2: Wrote a formater function to change the format of date\n",
    "### Step 3: Graph SPY Price Time Series by using the Seaborn.lineplot method"
   ]
  },
  {
   "cell_type": "code",
   "execution_count": 5,
   "metadata": {},
   "outputs": [
    {
     "data": {
      "image/png": "[encoded data removed]",
      "text/plain": [
       "<Figure size 792x488.88 with 1 Axes>"
      ]
     },
     "metadata": {
      "needs_background": "light"
     },
     "output_type": "display_data"
    }
   ],
   "source": [
    "date=pd.to_datetime(spy_price['Date'])\n",
    "datnum=dates.datestr2num(spy_price['Date'])\n",
    "df = pd.DataFrame({\n",
    "    'date': date,   # pandas dates\n",
    "    'Date': datnum, # maptlotlib dates\n",
    "    'Close Price': spy_price['Close']\n",
    "})\n",
    "def fake_dates(x, pos):\n",
    "    \"\"\" Custom formater to turn floats into e.g., 2016-05-08\"\"\"\n",
    "    return dates.num2date(x).strftime('%Y-%m-%d')\n",
    "\n",
    "fig, ax = plt.subplots(figsize=(11,6.79))\n",
    "sns.lineplot('Date','Close Price',data=df)\n",
    "\n",
    "ax.xaxis.set_major_formatter(FuncFormatter(fake_dates))\n",
    "plt.title('SPY Price Time Series',fontsize=22)\n",
    "\n",
    "ax.tick_params(labelrotation=45)\n",
    "ax.set_ylabel('Close Price',fontsize=18)\n",
    "ax.set_xlabel('Date',fontsize=18)\n",
    "ax.set_xticks(np.arange(727592,737319,800))\n",
    "\n",
    "fig.tight_layout();"
   ]
  },
  {
   "cell_type": "markdown",
   "metadata": {},
   "source": [
    "## Part(b) Create a graph of the SPY returns as a function of time using the Close price and dividends"
   ]
  },
  {
   "cell_type": "markdown",
   "metadata": {},
   "source": [
    "### Step 1: Merge the two tables by adding the Dividend column to the spy price table"
   ]
  },
  {
   "cell_type": "code",
   "execution_count": 6,
   "metadata": {},
   "outputs": [
    {
     "data": {
      "text/html": [
       "<div>\n",
       "<style scoped>\n",
       "    .dataframe tbody tr th:only-of-type {\n",
       "        vertical-align: middle;\n",
       "    }\n",
       "\n",
       "    .dataframe tbody tr th {\n",
       "        vertical-align: top;\n",
       "    }\n",
       "\n",
       "    .dataframe thead th {\n",
       "        text-align: right;\n",
       "    }\n",
       "</style>\n",
       "<table border=\"1\" class=\"dataframe\">\n",
       "  <thead>\n",
       "    <tr style=\"text-align: right;\">\n",
       "      <th></th>\n",
       "      <th>Date</th>\n",
       "      <th>Open</th>\n",
       "      <th>High</th>\n",
       "      <th>Low</th>\n",
       "      <th>Close</th>\n",
       "      <th>Adj Close</th>\n",
       "      <th>Volume</th>\n",
       "      <th>Dividends</th>\n",
       "    </tr>\n",
       "  </thead>\n",
       "  <tbody>\n",
       "    <tr>\n",
       "      <th>0</th>\n",
       "      <td>1993-01-29</td>\n",
       "      <td>43.96875</td>\n",
       "      <td>43.96875</td>\n",
       "      <td>43.75000</td>\n",
       "      <td>43.93750</td>\n",
       "      <td>26.583992</td>\n",
       "      <td>1003200</td>\n",
       "      <td>NaN</td>\n",
       "    </tr>\n",
       "    <tr>\n",
       "      <th>1</th>\n",
       "      <td>1993-02-01</td>\n",
       "      <td>43.96875</td>\n",
       "      <td>44.25000</td>\n",
       "      <td>43.96875</td>\n",
       "      <td>44.25000</td>\n",
       "      <td>26.773048</td>\n",
       "      <td>480500</td>\n",
       "      <td>NaN</td>\n",
       "    </tr>\n",
       "    <tr>\n",
       "      <th>2</th>\n",
       "      <td>1993-02-02</td>\n",
       "      <td>44.21875</td>\n",
       "      <td>44.37500</td>\n",
       "      <td>44.12500</td>\n",
       "      <td>44.34375</td>\n",
       "      <td>26.829773</td>\n",
       "      <td>201300</td>\n",
       "      <td>NaN</td>\n",
       "    </tr>\n",
       "    <tr>\n",
       "      <th>3</th>\n",
       "      <td>1993-02-03</td>\n",
       "      <td>44.40625</td>\n",
       "      <td>44.84375</td>\n",
       "      <td>44.37500</td>\n",
       "      <td>44.81250</td>\n",
       "      <td>27.113388</td>\n",
       "      <td>529400</td>\n",
       "      <td>NaN</td>\n",
       "    </tr>\n",
       "    <tr>\n",
       "      <th>4</th>\n",
       "      <td>1993-02-04</td>\n",
       "      <td>44.96875</td>\n",
       "      <td>45.09375</td>\n",
       "      <td>44.46875</td>\n",
       "      <td>45.00000</td>\n",
       "      <td>27.226835</td>\n",
       "      <td>531500</td>\n",
       "      <td>NaN</td>\n",
       "    </tr>\n",
       "  </tbody>\n",
       "</table>\n",
       "</div>"
      ],
      "text/plain": [
       "         Date      Open      High       Low     Close  Adj Close   Volume  \\\n",
       "0  1993-01-29  43.96875  43.96875  43.75000  43.93750  26.583992  1003200   \n",
       "1  1993-02-01  43.96875  44.25000  43.96875  44.25000  26.773048   480500   \n",
       "2  1993-02-02  44.21875  44.37500  44.12500  44.34375  26.829773   201300   \n",
       "3  1993-02-03  44.40625  44.84375  44.37500  44.81250  27.113388   529400   \n",
       "4  1993-02-04  44.96875  45.09375  44.46875  45.00000  27.226835   531500   \n",
       "\n",
       "   Dividends  \n",
       "0        NaN  \n",
       "1        NaN  \n",
       "2        NaN  \n",
       "3        NaN  \n",
       "4        NaN  "
      ]
     },
     "execution_count": 6,
     "metadata": {},
     "output_type": "execute_result"
    }
   ],
   "source": [
    "joined_table=spy_price.merge(spy_dividend,how='outer',left_on='Date',right_on='Date')\n",
    "joined_table.head()"
   ]
  },
  {
   "cell_type": "markdown",
   "metadata": {},
   "source": [
    "### Step 2: I discovered that there are a lot of NaNs in the \"Divideds\" column. This is not helpful for calculation. Therefore, I used the \"pandas.fillna (0 , inplace=True)\" method to change the NaNs into 0s."
   ]
  },
  {
   "cell_type": "code",
   "execution_count": 7,
   "metadata": {},
   "outputs": [
    {
     "data": {
      "text/html": [
       "<div>\n",
       "<style scoped>\n",
       "    .dataframe tbody tr th:only-of-type {\n",
       "        vertical-align: middle;\n",
       "    }\n",
       "\n",
       "    .dataframe tbody tr th {\n",
       "        vertical-align: top;\n",
       "    }\n",
       "\n",
       "    .dataframe thead th {\n",
       "        text-align: right;\n",
       "    }\n",
       "</style>\n",
       "<table border=\"1\" class=\"dataframe\">\n",
       "  <thead>\n",
       "    <tr style=\"text-align: right;\">\n",
       "      <th></th>\n",
       "      <th>Date</th>\n",
       "      <th>Open</th>\n",
       "      <th>High</th>\n",
       "      <th>Low</th>\n",
       "      <th>Close</th>\n",
       "      <th>Adj Close</th>\n",
       "      <th>Volume</th>\n",
       "      <th>Dividends</th>\n",
       "    </tr>\n",
       "  </thead>\n",
       "  <tbody>\n",
       "    <tr>\n",
       "      <th>0</th>\n",
       "      <td>1993-01-29</td>\n",
       "      <td>43.96875</td>\n",
       "      <td>43.96875</td>\n",
       "      <td>43.75000</td>\n",
       "      <td>43.93750</td>\n",
       "      <td>26.583992</td>\n",
       "      <td>1003200</td>\n",
       "      <td>0.0</td>\n",
       "    </tr>\n",
       "    <tr>\n",
       "      <th>1</th>\n",
       "      <td>1993-02-01</td>\n",
       "      <td>43.96875</td>\n",
       "      <td>44.25000</td>\n",
       "      <td>43.96875</td>\n",
       "      <td>44.25000</td>\n",
       "      <td>26.773048</td>\n",
       "      <td>480500</td>\n",
       "      <td>0.0</td>\n",
       "    </tr>\n",
       "    <tr>\n",
       "      <th>2</th>\n",
       "      <td>1993-02-02</td>\n",
       "      <td>44.21875</td>\n",
       "      <td>44.37500</td>\n",
       "      <td>44.12500</td>\n",
       "      <td>44.34375</td>\n",
       "      <td>26.829773</td>\n",
       "      <td>201300</td>\n",
       "      <td>0.0</td>\n",
       "    </tr>\n",
       "    <tr>\n",
       "      <th>3</th>\n",
       "      <td>1993-02-03</td>\n",
       "      <td>44.40625</td>\n",
       "      <td>44.84375</td>\n",
       "      <td>44.37500</td>\n",
       "      <td>44.81250</td>\n",
       "      <td>27.113388</td>\n",
       "      <td>529400</td>\n",
       "      <td>0.0</td>\n",
       "    </tr>\n",
       "    <tr>\n",
       "      <th>4</th>\n",
       "      <td>1993-02-04</td>\n",
       "      <td>44.96875</td>\n",
       "      <td>45.09375</td>\n",
       "      <td>44.46875</td>\n",
       "      <td>45.00000</td>\n",
       "      <td>27.226835</td>\n",
       "      <td>531500</td>\n",
       "      <td>0.0</td>\n",
       "    </tr>\n",
       "  </tbody>\n",
       "</table>\n",
       "</div>"
      ],
      "text/plain": [
       "         Date      Open      High       Low     Close  Adj Close   Volume  \\\n",
       "0  1993-01-29  43.96875  43.96875  43.75000  43.93750  26.583992  1003200   \n",
       "1  1993-02-01  43.96875  44.25000  43.96875  44.25000  26.773048   480500   \n",
       "2  1993-02-02  44.21875  44.37500  44.12500  44.34375  26.829773   201300   \n",
       "3  1993-02-03  44.40625  44.84375  44.37500  44.81250  27.113388   529400   \n",
       "4  1993-02-04  44.96875  45.09375  44.46875  45.00000  27.226835   531500   \n",
       "\n",
       "   Dividends  \n",
       "0        0.0  \n",
       "1        0.0  \n",
       "2        0.0  \n",
       "3        0.0  \n",
       "4        0.0  "
      ]
     },
     "execution_count": 7,
     "metadata": {},
     "output_type": "execute_result"
    }
   ],
   "source": [
    "joined_table['Dividends'].fillna(0,inplace=True) #change the NaNs to 0s for calculation\n",
    "joined_table.head()"
   ]
  },
  {
   "cell_type": "markdown",
   "metadata": {},
   "source": [
    "### Step 3: Simplify this joined table by using the pandas. loc method to have just the date and close price column"
   ]
  },
  {
   "cell_type": "code",
   "execution_count": 8,
   "metadata": {},
   "outputs": [
    {
     "data": {
      "text/html": [
       "<div>\n",
       "<style scoped>\n",
       "    .dataframe tbody tr th:only-of-type {\n",
       "        vertical-align: middle;\n",
       "    }\n",
       "\n",
       "    .dataframe tbody tr th {\n",
       "        vertical-align: top;\n",
       "    }\n",
       "\n",
       "    .dataframe thead th {\n",
       "        text-align: right;\n",
       "    }\n",
       "</style>\n",
       "<table border=\"1\" class=\"dataframe\">\n",
       "  <thead>\n",
       "    <tr style=\"text-align: right;\">\n",
       "      <th></th>\n",
       "      <th>Close</th>\n",
       "    </tr>\n",
       "    <tr>\n",
       "      <th>Date</th>\n",
       "      <th></th>\n",
       "    </tr>\n",
       "  </thead>\n",
       "  <tbody>\n",
       "    <tr>\n",
       "      <th>1993-01-29</th>\n",
       "      <td>43.93750</td>\n",
       "    </tr>\n",
       "    <tr>\n",
       "      <th>1993-02-01</th>\n",
       "      <td>44.25000</td>\n",
       "    </tr>\n",
       "    <tr>\n",
       "      <th>1993-02-02</th>\n",
       "      <td>44.34375</td>\n",
       "    </tr>\n",
       "    <tr>\n",
       "      <th>1993-02-03</th>\n",
       "      <td>44.81250</td>\n",
       "    </tr>\n",
       "    <tr>\n",
       "      <th>1993-02-04</th>\n",
       "      <td>45.00000</td>\n",
       "    </tr>\n",
       "  </tbody>\n",
       "</table>\n",
       "</div>"
      ],
      "text/plain": [
       "               Close\n",
       "Date                \n",
       "1993-01-29  43.93750\n",
       "1993-02-01  44.25000\n",
       "1993-02-02  44.34375\n",
       "1993-02-03  44.81250\n",
       "1993-02-04  45.00000"
      ]
     },
     "execution_count": 8,
     "metadata": {},
     "output_type": "execute_result"
    }
   ],
   "source": [
    "simple_table=joined_table.loc[0:,['Date','Close']].set_index('Date')\n",
    "simple_table.head()"
   ]
  },
  {
   "cell_type": "markdown",
   "metadata": {},
   "source": [
    "### Step 4: Use the simplified table, we can find the difference between price of today and price of yesterday. I applied a lambda function to every row of the table"
   ]
  },
  {
   "cell_type": "code",
   "execution_count": 9,
   "metadata": {},
   "outputs": [
    {
     "data": {
      "text/html": [
       "<div>\n",
       "<style scoped>\n",
       "    .dataframe tbody tr th:only-of-type {\n",
       "        vertical-align: middle;\n",
       "    }\n",
       "\n",
       "    .dataframe tbody tr th {\n",
       "        vertical-align: top;\n",
       "    }\n",
       "\n",
       "    .dataframe thead th {\n",
       "        text-align: right;\n",
       "    }\n",
       "</style>\n",
       "<table border=\"1\" class=\"dataframe\">\n",
       "  <thead>\n",
       "    <tr style=\"text-align: right;\">\n",
       "      <th></th>\n",
       "      <th>Date</th>\n",
       "      <th>P(today)-P(yesterday)</th>\n",
       "    </tr>\n",
       "  </thead>\n",
       "  <tbody>\n",
       "    <tr>\n",
       "      <th>0</th>\n",
       "      <td>1993-01-29</td>\n",
       "      <td>NaN</td>\n",
       "    </tr>\n",
       "    <tr>\n",
       "      <th>1</th>\n",
       "      <td>1993-02-01</td>\n",
       "      <td>0.31250</td>\n",
       "    </tr>\n",
       "    <tr>\n",
       "      <th>2</th>\n",
       "      <td>1993-02-02</td>\n",
       "      <td>0.09375</td>\n",
       "    </tr>\n",
       "    <tr>\n",
       "      <th>3</th>\n",
       "      <td>1993-02-03</td>\n",
       "      <td>0.46875</td>\n",
       "    </tr>\n",
       "    <tr>\n",
       "      <th>4</th>\n",
       "      <td>1993-02-04</td>\n",
       "      <td>0.18750</td>\n",
       "    </tr>\n",
       "  </tbody>\n",
       "</table>\n",
       "</div>"
      ],
      "text/plain": [
       "         Date  P(today)-P(yesterday)\n",
       "0  1993-01-29                    NaN\n",
       "1  1993-02-01                0.31250\n",
       "2  1993-02-02                0.09375\n",
       "3  1993-02-03                0.46875\n",
       "4  1993-02-04                0.18750"
      ]
     },
     "execution_count": 9,
     "metadata": {},
     "output_type": "execute_result"
    }
   ],
   "source": [
    "simple_tablev2=simple_table.apply(lambda x: np.array(x) - np.array(x.shift(1)))\n",
    "simple_tablev2.reset_index(level=0, inplace=True)\n",
    "simple_tablev2.rename(columns={'Close':'P(today)-P(yesterday)'},inplace=True)\n",
    "simple_tablev2.head()"
   ]
  },
  {
   "cell_type": "markdown",
   "metadata": {},
   "source": [
    "### Step 5: Merge the simple table version 2 with the Dividends column and form the simple table version 3"
   ]
  },
  {
   "cell_type": "code",
   "execution_count": 10,
   "metadata": {},
   "outputs": [
    {
     "data": {
      "text/html": [
       "<div>\n",
       "<style scoped>\n",
       "    .dataframe tbody tr th:only-of-type {\n",
       "        vertical-align: middle;\n",
       "    }\n",
       "\n",
       "    .dataframe tbody tr th {\n",
       "        vertical-align: top;\n",
       "    }\n",
       "\n",
       "    .dataframe thead th {\n",
       "        text-align: right;\n",
       "    }\n",
       "</style>\n",
       "<table border=\"1\" class=\"dataframe\">\n",
       "  <thead>\n",
       "    <tr style=\"text-align: right;\">\n",
       "      <th></th>\n",
       "      <th>Date</th>\n",
       "      <th>P(today)-P(yesterday)</th>\n",
       "      <th>Dividends</th>\n",
       "    </tr>\n",
       "  </thead>\n",
       "  <tbody>\n",
       "    <tr>\n",
       "      <th>0</th>\n",
       "      <td>1993-01-29</td>\n",
       "      <td>0.00000</td>\n",
       "      <td>0.0</td>\n",
       "    </tr>\n",
       "    <tr>\n",
       "      <th>1</th>\n",
       "      <td>1993-02-01</td>\n",
       "      <td>0.31250</td>\n",
       "      <td>0.0</td>\n",
       "    </tr>\n",
       "    <tr>\n",
       "      <th>2</th>\n",
       "      <td>1993-02-02</td>\n",
       "      <td>0.09375</td>\n",
       "      <td>0.0</td>\n",
       "    </tr>\n",
       "    <tr>\n",
       "      <th>3</th>\n",
       "      <td>1993-02-03</td>\n",
       "      <td>0.46875</td>\n",
       "      <td>0.0</td>\n",
       "    </tr>\n",
       "    <tr>\n",
       "      <th>4</th>\n",
       "      <td>1993-02-04</td>\n",
       "      <td>0.18750</td>\n",
       "      <td>0.0</td>\n",
       "    </tr>\n",
       "  </tbody>\n",
       "</table>\n",
       "</div>"
      ],
      "text/plain": [
       "         Date  P(today)-P(yesterday)  Dividends\n",
       "0  1993-01-29                0.00000        0.0\n",
       "1  1993-02-01                0.31250        0.0\n",
       "2  1993-02-02                0.09375        0.0\n",
       "3  1993-02-03                0.46875        0.0\n",
       "4  1993-02-04                0.18750        0.0"
      ]
     },
     "execution_count": 10,
     "metadata": {},
     "output_type": "execute_result"
    }
   ],
   "source": [
    "simple_tablev3=simple_tablev2.merge(spy_dividend,how='left',left_on='Date',right_on='Date')\n",
    "simple_tablev3['Dividends'].fillna(0,inplace=True)\n",
    "simple_tablev3['P(today)-P(yesterday)'].fillna(0,inplace=True)\n",
    "simple_tablev3.head()"
   ]
  },
  {
   "cell_type": "markdown",
   "metadata": {},
   "source": [
    "### Step 6: Merge the simplified table version 3 with the Close column from the SPY 500 table. Now this simplified table version 4 is ready for the calculation of Returns. "
   ]
  },
  {
   "cell_type": "code",
   "execution_count": 11,
   "metadata": {},
   "outputs": [
    {
     "data": {
      "text/html": [
       "<div>\n",
       "<style scoped>\n",
       "    .dataframe tbody tr th:only-of-type {\n",
       "        vertical-align: middle;\n",
       "    }\n",
       "\n",
       "    .dataframe tbody tr th {\n",
       "        vertical-align: top;\n",
       "    }\n",
       "\n",
       "    .dataframe thead th {\n",
       "        text-align: right;\n",
       "    }\n",
       "</style>\n",
       "<table border=\"1\" class=\"dataframe\">\n",
       "  <thead>\n",
       "    <tr style=\"text-align: right;\">\n",
       "      <th></th>\n",
       "      <th>Date</th>\n",
       "      <th>P(today)-P(yesterday)</th>\n",
       "      <th>Dividends</th>\n",
       "      <th>Close</th>\n",
       "    </tr>\n",
       "  </thead>\n",
       "  <tbody>\n",
       "    <tr>\n",
       "      <th>0</th>\n",
       "      <td>1993-01-29</td>\n",
       "      <td>0.00000</td>\n",
       "      <td>0.0</td>\n",
       "      <td>43.93750</td>\n",
       "    </tr>\n",
       "    <tr>\n",
       "      <th>1</th>\n",
       "      <td>1993-02-01</td>\n",
       "      <td>0.31250</td>\n",
       "      <td>0.0</td>\n",
       "      <td>44.25000</td>\n",
       "    </tr>\n",
       "    <tr>\n",
       "      <th>2</th>\n",
       "      <td>1993-02-02</td>\n",
       "      <td>0.09375</td>\n",
       "      <td>0.0</td>\n",
       "      <td>44.34375</td>\n",
       "    </tr>\n",
       "    <tr>\n",
       "      <th>3</th>\n",
       "      <td>1993-02-03</td>\n",
       "      <td>0.46875</td>\n",
       "      <td>0.0</td>\n",
       "      <td>44.81250</td>\n",
       "    </tr>\n",
       "    <tr>\n",
       "      <th>4</th>\n",
       "      <td>1993-02-04</td>\n",
       "      <td>0.18750</td>\n",
       "      <td>0.0</td>\n",
       "      <td>45.00000</td>\n",
       "    </tr>\n",
       "  </tbody>\n",
       "</table>\n",
       "</div>"
      ],
      "text/plain": [
       "         Date  P(today)-P(yesterday)  Dividends     Close\n",
       "0  1993-01-29                0.00000        0.0  43.93750\n",
       "1  1993-02-01                0.31250        0.0  44.25000\n",
       "2  1993-02-02                0.09375        0.0  44.34375\n",
       "3  1993-02-03                0.46875        0.0  44.81250\n",
       "4  1993-02-04                0.18750        0.0  45.00000"
      ]
     },
     "execution_count": 11,
     "metadata": {},
     "output_type": "execute_result"
    }
   ],
   "source": [
    "simple_tablev4=simple_tablev3.merge(simple_table,how='left',left_on='Date',right_on='Date')\n",
    "simple_tablev4.head()"
   ]
  },
  {
   "cell_type": "markdown",
   "metadata": {},
   "source": [
    "### Step 7: Form the \"Return %\" column by summing the elements in price difference column and dividends column and then dividing by previous day’s close price"
   ]
  },
  {
   "cell_type": "code",
   "execution_count": 12,
   "metadata": {},
   "outputs": [
    {
     "data": {
      "text/html": [
       "<div>\n",
       "<style scoped>\n",
       "    .dataframe tbody tr th:only-of-type {\n",
       "        vertical-align: middle;\n",
       "    }\n",
       "\n",
       "    .dataframe tbody tr th {\n",
       "        vertical-align: top;\n",
       "    }\n",
       "\n",
       "    .dataframe thead th {\n",
       "        text-align: right;\n",
       "    }\n",
       "</style>\n",
       "<table border=\"1\" class=\"dataframe\">\n",
       "  <thead>\n",
       "    <tr style=\"text-align: right;\">\n",
       "      <th></th>\n",
       "      <th>Date</th>\n",
       "      <th>P(today)-P(yesterday)</th>\n",
       "      <th>Dividends</th>\n",
       "      <th>Close</th>\n",
       "      <th>Return %</th>\n",
       "    </tr>\n",
       "  </thead>\n",
       "  <tbody>\n",
       "    <tr>\n",
       "      <th>0</th>\n",
       "      <td>1993-01-29</td>\n",
       "      <td>0.00000</td>\n",
       "      <td>0.0</td>\n",
       "      <td>43.93750</td>\n",
       "      <td>NaN</td>\n",
       "    </tr>\n",
       "    <tr>\n",
       "      <th>1</th>\n",
       "      <td>1993-02-01</td>\n",
       "      <td>0.31250</td>\n",
       "      <td>0.0</td>\n",
       "      <td>44.25000</td>\n",
       "      <td>0.711238</td>\n",
       "    </tr>\n",
       "    <tr>\n",
       "      <th>2</th>\n",
       "      <td>1993-02-02</td>\n",
       "      <td>0.09375</td>\n",
       "      <td>0.0</td>\n",
       "      <td>44.34375</td>\n",
       "      <td>0.211864</td>\n",
       "    </tr>\n",
       "    <tr>\n",
       "      <th>3</th>\n",
       "      <td>1993-02-03</td>\n",
       "      <td>0.46875</td>\n",
       "      <td>0.0</td>\n",
       "      <td>44.81250</td>\n",
       "      <td>1.057082</td>\n",
       "    </tr>\n",
       "    <tr>\n",
       "      <th>4</th>\n",
       "      <td>1993-02-04</td>\n",
       "      <td>0.18750</td>\n",
       "      <td>0.0</td>\n",
       "      <td>45.00000</td>\n",
       "      <td>0.418410</td>\n",
       "    </tr>\n",
       "  </tbody>\n",
       "</table>\n",
       "</div>"
      ],
      "text/plain": [
       "         Date  P(today)-P(yesterday)  Dividends     Close  Return %\n",
       "0  1993-01-29                0.00000        0.0  43.93750       NaN\n",
       "1  1993-02-01                0.31250        0.0  44.25000  0.711238\n",
       "2  1993-02-02                0.09375        0.0  44.34375  0.211864\n",
       "3  1993-02-03                0.46875        0.0  44.81250  1.057082\n",
       "4  1993-02-04                0.18750        0.0  45.00000  0.418410"
      ]
     },
     "execution_count": 12,
     "metadata": {},
     "output_type": "execute_result"
    }
   ],
   "source": [
    "simple_tablev4['Return %']=(simple_tablev4['P(today)-P(yesterday)']+simple_tablev4['Dividends'])/simple_tablev4['Close'].shift(1)*100\n",
    "simple_tablev4.head()"
   ]
  },
  {
   "cell_type": "markdown",
   "metadata": {},
   "source": [
    "### Step 8: We can now plot the \"SPY Return Time Series\". Similar to Part(a), we also need to change the format of the dates. Then we use the Seaborn.lineplot method again to plot."
   ]
  },
  {
   "cell_type": "code",
   "execution_count": 13,
   "metadata": {},
   "outputs": [
    {
     "data": {
      "image/png": "[encoded data removed]",
      "text/plain": [
       "<Figure size 792x488.88 with 1 Axes>"
      ]
     },
     "metadata": {
      "needs_background": "light"
     },
     "output_type": "display_data"
    }
   ],
   "source": [
    "date1=pd.to_datetime(simple_tablev4['Date'])\n",
    "datnum1=dates.datestr2num(simple_tablev4['Date'])\n",
    "df1 = pd.DataFrame({\n",
    "    'date': date,   # pandas dates\n",
    "    'Date': datnum, # maptlotlib dates\n",
    "    'Return': simple_tablev4['Return %']\n",
    "})\n",
    "def fake_dates(x, pos):\n",
    "    \"\"\" Custom formater to turn floats into e.g., 2016-05-08\"\"\"\n",
    "    return dates.num2date(x).strftime('%Y-%m-%d')\n",
    "\n",
    "fig, ax = plt.subplots(figsize=(11,6.79))\n",
    "sns.lineplot('Date','Return',data=df1)\n",
    "\n",
    "ax.xaxis.set_major_formatter(FuncFormatter(fake_dates))\n",
    "plt.title('SPY Return Time Series',fontsize=22)\n",
    "\n",
    "ax.tick_params(labelrotation=45)\n",
    "ax.set_ylabel('Return (%)',fontsize=18)\n",
    "ax.set_xlabel('Date',fontsize=18);\n"
   ]
  },
  {
   "cell_type": "markdown",
   "metadata": {},
   "source": [
    "## Part(c) Create a Semi-Log graph of the cumulative distribution funciton (CDF and 1-CDF) of the SPY returns"
   ]
  },
  {
   "cell_type": "markdown",
   "metadata": {},
   "source": [
    "### Step 1: Extract the \"Return %\" column out of the simple table version 4. Form a new table called sorted_return. We will build onto this new table in later parts. "
   ]
  },
  {
   "cell_type": "code",
   "execution_count": 14,
   "metadata": {},
   "outputs": [
    {
     "data": {
      "text/html": [
       "<div>\n",
       "<style scoped>\n",
       "    .dataframe tbody tr th:only-of-type {\n",
       "        vertical-align: middle;\n",
       "    }\n",
       "\n",
       "    .dataframe tbody tr th {\n",
       "        vertical-align: top;\n",
       "    }\n",
       "\n",
       "    .dataframe thead th {\n",
       "        text-align: right;\n",
       "    }\n",
       "</style>\n",
       "<table border=\"1\" class=\"dataframe\">\n",
       "  <thead>\n",
       "    <tr style=\"text-align: right;\">\n",
       "      <th></th>\n",
       "      <th>Return %</th>\n",
       "    </tr>\n",
       "  </thead>\n",
       "  <tbody>\n",
       "    <tr>\n",
       "      <th>3958</th>\n",
       "      <td>-9.844768</td>\n",
       "    </tr>\n",
       "    <tr>\n",
       "      <th>3990</th>\n",
       "      <td>-8.857804</td>\n",
       "    </tr>\n",
       "    <tr>\n",
       "      <th>3946</th>\n",
       "      <td>-7.836161</td>\n",
       "    </tr>\n",
       "    <tr>\n",
       "      <th>3984</th>\n",
       "      <td>-7.423317</td>\n",
       "    </tr>\n",
       "    <tr>\n",
       "      <th>1199</th>\n",
       "      <td>-7.247340</td>\n",
       "    </tr>\n",
       "  </tbody>\n",
       "</table>\n",
       "</div>"
      ],
      "text/plain": [
       "      Return %\n",
       "3958 -9.844768\n",
       "3990 -8.857804\n",
       "3946 -7.836161\n",
       "3984 -7.423317\n",
       "1199 -7.247340"
      ]
     },
     "execution_count": 14,
     "metadata": {},
     "output_type": "execute_result"
    }
   ],
   "source": [
    "return_df = pd.DataFrame({'Return %':simple_tablev4['Return %']})\n",
    "N=return_df.size\n",
    "sorted_return=return_df.sort_values('Return %',ascending=True)\n",
    "sorted_return.head()"
   ]
  },
  {
   "cell_type": "markdown",
   "metadata": {},
   "source": [
    "### Step 2: Transform the \"Return %\" column into an array for easier calculation"
   ]
  },
  {
   "cell_type": "code",
   "execution_count": 15,
   "metadata": {},
   "outputs": [
    {
     "data": {
      "text/plain": [
       "array([-9.84476835, -8.8578037 , -7.83616149, ..., 11.68553347,\n",
       "       14.51977175,         nan])"
      ]
     },
     "execution_count": 15,
     "metadata": {},
     "output_type": "execute_result"
    }
   ],
   "source": [
    "return_array=sorted_return['Return %'].values\n",
    "return_array"
   ]
  },
  {
   "cell_type": "markdown",
   "metadata": {},
   "source": [
    "### Step 3: Using the array above, we could form the CDF& 1-CDF column. Attach the columns to the sorted_return table"
   ]
  },
  {
   "cell_type": "code",
   "execution_count": 16,
   "metadata": {},
   "outputs": [],
   "source": [
    "cdf_array=[]\n",
    "for i in range(len(return_array)):\n",
    "    if return_array[i]<0:\n",
    "        cdf_array.append((i+1)/(N+1))\n",
    "    else:\n",
    "        cdf_array.append(1-((i+1)/(N+1)))"
   ]
  },
  {
   "cell_type": "code",
   "execution_count": 17,
   "metadata": {},
   "outputs": [
    {
     "data": {
      "text/plain": [
       "array([-3.82659305, -3.52556306, -3.3494718 , ..., -3.3494718 ,\n",
       "       -3.52556306, -3.82659305])"
      ]
     },
     "execution_count": 17,
     "metadata": {},
     "output_type": "execute_result"
    }
   ],
   "source": [
    "cdf_log_scale_array=np.log10(cdf_array)\n",
    "cdf_log_scale_array"
   ]
  },
  {
   "cell_type": "code",
   "execution_count": 18,
   "metadata": {},
   "outputs": [
    {
     "data": {
      "text/html": [
       "<div>\n",
       "<style scoped>\n",
       "    .dataframe tbody tr th:only-of-type {\n",
       "        vertical-align: middle;\n",
       "    }\n",
       "\n",
       "    .dataframe tbody tr th {\n",
       "        vertical-align: top;\n",
       "    }\n",
       "\n",
       "    .dataframe thead th {\n",
       "        text-align: right;\n",
       "    }\n",
       "</style>\n",
       "<table border=\"1\" class=\"dataframe\">\n",
       "  <thead>\n",
       "    <tr style=\"text-align: right;\">\n",
       "      <th></th>\n",
       "      <th>Return %</th>\n",
       "      <th>CDF &amp; 1-CDF</th>\n",
       "      <th>CDFs in log10 Scale</th>\n",
       "    </tr>\n",
       "  </thead>\n",
       "  <tbody>\n",
       "    <tr>\n",
       "      <th>3958</th>\n",
       "      <td>-9.844768</td>\n",
       "      <td>0.000149</td>\n",
       "      <td>-3.826593</td>\n",
       "    </tr>\n",
       "    <tr>\n",
       "      <th>3990</th>\n",
       "      <td>-8.857804</td>\n",
       "      <td>0.000298</td>\n",
       "      <td>-3.525563</td>\n",
       "    </tr>\n",
       "    <tr>\n",
       "      <th>3946</th>\n",
       "      <td>-7.836161</td>\n",
       "      <td>0.000447</td>\n",
       "      <td>-3.349472</td>\n",
       "    </tr>\n",
       "    <tr>\n",
       "      <th>3984</th>\n",
       "      <td>-7.423317</td>\n",
       "      <td>0.000596</td>\n",
       "      <td>-3.224533</td>\n",
       "    </tr>\n",
       "    <tr>\n",
       "      <th>1199</th>\n",
       "      <td>-7.247340</td>\n",
       "      <td>0.000745</td>\n",
       "      <td>-3.127623</td>\n",
       "    </tr>\n",
       "  </tbody>\n",
       "</table>\n",
       "</div>"
      ],
      "text/plain": [
       "      Return %  CDF & 1-CDF  CDFs in log10 Scale\n",
       "3958 -9.844768     0.000149            -3.826593\n",
       "3990 -8.857804     0.000298            -3.525563\n",
       "3946 -7.836161     0.000447            -3.349472\n",
       "3984 -7.423317     0.000596            -3.224533\n",
       "1199 -7.247340     0.000745            -3.127623"
      ]
     },
     "execution_count": 18,
     "metadata": {},
     "output_type": "execute_result"
    }
   ],
   "source": [
    "sorted_return['CDF & 1-CDF']=cdf_array\n",
    "sorted_return['CDFs in log10 Scale']=cdf_log_scale_array\n",
    "sorted_return.head()"
   ]
  },
  {
   "cell_type": "markdown",
   "metadata": {},
   "source": [
    "### Step 4: Use scatterplot to plot CDF, 1-CDF vs. Return and set y axis to log scale"
   ]
  },
  {
   "cell_type": "code",
   "execution_count": 79,
   "metadata": {},
   "outputs": [
    {
     "data": {
      "image/png": "[encoded data removed]",
      "text/plain": [
       "<Figure size 792x488.88 with 1 Axes>"
      ]
     },
     "metadata": {
      "needs_background": "light"
     },
     "output_type": "display_data"
    }
   ],
   "source": [
    "fig, ax = plt.subplots(figsize=(11,6.79))\n",
    "plt.scatter(x=sorted_return['Return %'],y=sorted_return['CDFs in log10 Scale'])\n",
    "\n",
    "plt.title('Semi-Log Graph of Cumulative Distribution Function of the SPY Returns',fontsize=22)\n",
    "\n",
    "ax.axvline(x=-3.145466, ymax=0.51, color='r', linewidth=4)\n",
    "\n",
    "\n",
    "ax.set_ylabel('CDF, 1-CDF in Log Scale(10^n)',fontsize=18)\n",
    "\n",
    "ax.set_xlabel('Return (%)',fontsize=18);"
   ]
  },
  {
   "cell_type": "code",
   "execution_count": 73,
   "metadata": {},
   "outputs": [
    {
     "data": {
      "text/html": [
       "<div>\n",
       "<style scoped>\n",
       "    .dataframe tbody tr th:only-of-type {\n",
       "        vertical-align: middle;\n",
       "    }\n",
       "\n",
       "    .dataframe tbody tr th {\n",
       "        vertical-align: top;\n",
       "    }\n",
       "\n",
       "    .dataframe thead th {\n",
       "        text-align: right;\n",
       "    }\n",
       "</style>\n",
       "<table border=\"1\" class=\"dataframe\">\n",
       "  <thead>\n",
       "    <tr style=\"text-align: right;\">\n",
       "      <th></th>\n",
       "      <th>Return %</th>\n",
       "      <th>CDF &amp; 1-CDF</th>\n",
       "      <th>CDFs in log10 Scale</th>\n",
       "      <th>Norm CDF of Returns</th>\n",
       "      <th>Norm CDF of Returns in log10 Scale</th>\n",
       "      <th>ln[P(|r|&gt;x)]</th>\n",
       "      <th>|x|</th>\n",
       "      <th>ln(|x|)</th>\n",
       "    </tr>\n",
       "  </thead>\n",
       "  <tbody>\n",
       "    <tr>\n",
       "      <th>4020</th>\n",
       "      <td>-3.145446</td>\n",
       "      <td>0.009839</td>\n",
       "      <td>-2.007049</td>\n",
       "      <td>0.002715</td>\n",
       "      <td>-2.566252</td>\n",
       "      <td>-4.621401</td>\n",
       "      <td>2.780368</td>\n",
       "      <td>1.022583</td>\n",
       "    </tr>\n",
       "  </tbody>\n",
       "</table>\n",
       "</div>"
      ],
      "text/plain": [
       "      Return %  CDF & 1-CDF  CDFs in log10 Scale  Norm CDF of Returns  \\\n",
       "4020 -3.145446     0.009839            -2.007049             0.002715   \n",
       "\n",
       "      Norm CDF of Returns in log10 Scale  ln[P(|r|>x)]       |x|   ln(|x|)  \n",
       "4020                           -2.566252     -4.621401  2.780368  1.022583  "
      ]
     },
     "execution_count": 73,
     "metadata": {},
     "output_type": "execute_result"
    }
   ],
   "source": [
    "sorted_return.loc[(sorted_return['CDFs in log10 Scale']>-2.01) & (sorted_return['CDFs in log10 Scale']<-1.98)].iloc[[0],:]"
   ]
  },
  {
   "cell_type": "code",
   "execution_count": 70,
   "metadata": {},
   "outputs": [
    {
     "data": {
      "text/html": [
       "<div>\n",
       "<style scoped>\n",
       "    .dataframe tbody tr th:only-of-type {\n",
       "        vertical-align: middle;\n",
       "    }\n",
       "\n",
       "    .dataframe tbody tr th {\n",
       "        vertical-align: top;\n",
       "    }\n",
       "\n",
       "    .dataframe thead th {\n",
       "        text-align: right;\n",
       "    }\n",
       "</style>\n",
       "<table border=\"1\" class=\"dataframe\">\n",
       "  <thead>\n",
       "    <tr style=\"text-align: right;\">\n",
       "      <th></th>\n",
       "      <th>Return %</th>\n",
       "      <th>CDF &amp; 1-CDF</th>\n",
       "      <th>CDFs in log10 Scale</th>\n",
       "      <th>Norm CDF of Returns</th>\n",
       "      <th>Norm CDF of Returns in log10 Scale</th>\n",
       "      <th>ln[P(|r|&gt;x)]</th>\n",
       "      <th>|x|</th>\n",
       "      <th>ln(|x|)</th>\n",
       "    </tr>\n",
       "  </thead>\n",
       "  <tbody>\n",
       "    <tr>\n",
       "      <th>3961</th>\n",
       "      <td>6.007938</td>\n",
       "      <td>0.001044</td>\n",
       "      <td>-2.981495</td>\n",
       "      <td>9.843772e-08</td>\n",
       "      <td>-7.006838</td>\n",
       "      <td>-6.865146</td>\n",
       "      <td>5.202264</td>\n",
       "      <td>1.649094</td>\n",
       "    </tr>\n",
       "  </tbody>\n",
       "</table>\n",
       "</div>"
      ],
      "text/plain": [
       "      Return %  CDF & 1-CDF  CDFs in log10 Scale  Norm CDF of Returns  \\\n",
       "3961  6.007938     0.001044            -2.981495         9.843772e-08   \n",
       "\n",
       "      Norm CDF of Returns in log10 Scale  ln[P(|r|>x)]       |x|   ln(|x|)  \n",
       "3961                           -7.006838     -6.865146  5.202264  1.649094  "
      ]
     },
     "execution_count": 70,
     "metadata": {},
     "output_type": "execute_result"
    }
   ],
   "source": [
    "sorted_return.loc[(sorted_return['CDFs in log10 Scale']>-3.01) & (sorted_return['CDFs in log10 Scale']<-2.98)].iloc[[1],:]"
   ]
  },
  {
   "cell_type": "markdown",
   "metadata": {},
   "source": [
    "## Part(d)Add a Gaussian distribution to the semi-log graph of the CDF of the SPY returns"
   ]
  },
  {
   "cell_type": "markdown",
   "metadata": {},
   "source": [
    "### Step 1: Find the mean and standard deviation of the \"Return\" column"
   ]
  },
  {
   "cell_type": "code",
   "execution_count": 20,
   "metadata": {},
   "outputs": [
    {
     "data": {
      "text/plain": [
       "0.042697794817150095"
      ]
     },
     "execution_count": 20,
     "metadata": {},
     "output_type": "execute_result"
    }
   ],
   "source": [
    "mean=np.mean(sorted_return['Return %'])\n",
    "mean"
   ]
  },
  {
   "cell_type": "code",
   "execution_count": 21,
   "metadata": {},
   "outputs": [
    {
     "data": {
      "text/plain": [
       "1.1466623795103048"
      ]
     },
     "execution_count": 21,
     "metadata": {},
     "output_type": "execute_result"
    }
   ],
   "source": [
    "std=np.std(sorted_return['Return %'])\n",
    "std"
   ]
  },
  {
   "cell_type": "markdown",
   "metadata": {},
   "source": [
    "### Step 2: Knwoing mean and standard deviation, we could find the Norm.dist and 1-Norm.dist of the returns. Put the results first in an array called normcdf_array"
   ]
  },
  {
   "cell_type": "code",
   "execution_count": 22,
   "metadata": {},
   "outputs": [],
   "source": [
    "normcdf_array=[]\n",
    "for i in range(len(return_array)):\n",
    "    if return_array[i]<0:\n",
    "        normcdf_array.append(norm.cdf(return_array[i],mean,std))\n",
    "    else:\n",
    "        normcdf_array.append(1-norm.cdf(return_array[i],mean,std))"
   ]
  },
  {
   "cell_type": "markdown",
   "metadata": {},
   "source": [
    "### Step 3: Add two columns \"Norm CDF of Returns\", and \"Norm CDF of Returns in log 10 Scale\" to the sorted_return table and use the normcdf_array derived above."
   ]
  },
  {
   "cell_type": "code",
   "execution_count": 23,
   "metadata": {},
   "outputs": [
    {
     "name": "stderr",
     "output_type": "stream",
     "text": [
      "/srv/app/venv/lib/python3.6/site-packages/ipykernel_launcher.py:2: RuntimeWarning: divide by zero encountered in log10\n",
      "  \n"
     ]
    },
    {
     "data": {
      "text/html": [
       "<div>\n",
       "<style scoped>\n",
       "    .dataframe tbody tr th:only-of-type {\n",
       "        vertical-align: middle;\n",
       "    }\n",
       "\n",
       "    .dataframe tbody tr th {\n",
       "        vertical-align: top;\n",
       "    }\n",
       "\n",
       "    .dataframe thead th {\n",
       "        text-align: right;\n",
       "    }\n",
       "</style>\n",
       "<table border=\"1\" class=\"dataframe\">\n",
       "  <thead>\n",
       "    <tr style=\"text-align: right;\">\n",
       "      <th></th>\n",
       "      <th>Return %</th>\n",
       "      <th>CDF &amp; 1-CDF</th>\n",
       "      <th>CDFs in log10 Scale</th>\n",
       "      <th>Norm CDF of Returns</th>\n",
       "      <th>Norm CDF of Returns in log10 Scale</th>\n",
       "    </tr>\n",
       "  </thead>\n",
       "  <tbody>\n",
       "    <tr>\n",
       "      <th>3958</th>\n",
       "      <td>-9.844768</td>\n",
       "      <td>0.000149</td>\n",
       "      <td>-3.826593</td>\n",
       "      <td>3.266184e-18</td>\n",
       "      <td>-17.485959</td>\n",
       "    </tr>\n",
       "    <tr>\n",
       "      <th>3990</th>\n",
       "      <td>-8.857804</td>\n",
       "      <td>0.000298</td>\n",
       "      <td>-3.525563</td>\n",
       "      <td>4.176913e-15</td>\n",
       "      <td>-14.379145</td>\n",
       "    </tr>\n",
       "    <tr>\n",
       "      <th>3946</th>\n",
       "      <td>-7.836161</td>\n",
       "      <td>0.000447</td>\n",
       "      <td>-3.349472</td>\n",
       "      <td>3.184902e-12</td>\n",
       "      <td>-11.496904</td>\n",
       "    </tr>\n",
       "    <tr>\n",
       "      <th>3984</th>\n",
       "      <td>-7.423317</td>\n",
       "      <td>0.000596</td>\n",
       "      <td>-3.224533</td>\n",
       "      <td>3.730536e-11</td>\n",
       "      <td>-10.428229</td>\n",
       "    </tr>\n",
       "    <tr>\n",
       "      <th>1199</th>\n",
       "      <td>-7.247340</td>\n",
       "      <td>0.000745</td>\n",
       "      <td>-3.127623</td>\n",
       "      <td>1.024550e-10</td>\n",
       "      <td>-9.989467</td>\n",
       "    </tr>\n",
       "  </tbody>\n",
       "</table>\n",
       "</div>"
      ],
      "text/plain": [
       "      Return %  CDF & 1-CDF  CDFs in log10 Scale  Norm CDF of Returns  \\\n",
       "3958 -9.844768     0.000149            -3.826593         3.266184e-18   \n",
       "3990 -8.857804     0.000298            -3.525563         4.176913e-15   \n",
       "3946 -7.836161     0.000447            -3.349472         3.184902e-12   \n",
       "3984 -7.423317     0.000596            -3.224533         3.730536e-11   \n",
       "1199 -7.247340     0.000745            -3.127623         1.024550e-10   \n",
       "\n",
       "      Norm CDF of Returns in log10 Scale  \n",
       "3958                          -17.485959  \n",
       "3990                          -14.379145  \n",
       "3946                          -11.496904  \n",
       "3984                          -10.428229  \n",
       "1199                           -9.989467  "
      ]
     },
     "execution_count": 23,
     "metadata": {},
     "output_type": "execute_result"
    }
   ],
   "source": [
    "sorted_return['Norm CDF of Returns'] = normcdf_array\n",
    "sorted_return['Norm CDF of Returns in log10 Scale'] = np.log10(normcdf_array)\n",
    "sorted_return.head()"
   ]
  },
  {
   "cell_type": "markdown",
   "metadata": {},
   "source": [
    "### Step 4: On the same plot, plot the subplot of the gaussian distributino using the \"Return %\" column and the \"Norm CDF of Returns in log10 Scale\" column. The y axis will be in log scale."
   ]
  },
  {
   "cell_type": "code",
   "execution_count": 24,
   "metadata": {},
   "outputs": [
    {
     "data": {
      "image/png": "[encoded data removed]",
      "text/plain": [
       "<Figure size 792x488.88 with 1 Axes>"
      ]
     },
     "metadata": {
      "needs_background": "light"
     },
     "output_type": "display_data"
    }
   ],
   "source": [
    "fig, ax = plt.subplots(figsize=(11,6.79))\n",
    "plt.scatter(x=sorted_return['Return %'],y=sorted_return['CDFs in log10 Scale'],label='CDF & 1-CDF of Returns')\n",
    "plt.scatter(x=sorted_return['Return %'],y=sorted_return['Norm CDF of Returns in log10 Scale'],color='black',label='Gaussian')\n",
    "plt.title('Semi-Log Graph of Cumulative Distribution Function of the SPY Returns',fontsize=22)\n",
    "\n",
    "ax.set_ylabel('CDF, 1-CDF in Log Scale(10^n)',fontsize=18)\n",
    "\n",
    "ax.set_xlabel('Return (%)',fontsize=18);\n",
    "ax.legend(loc='upper right')\n",
    "plt.ylim(-4,0);"
   ]
  },
  {
   "cell_type": "markdown",
   "metadata": {},
   "source": [
    "## Part(e) Calculate the power-law coeﬃcients in Eq. (41) of Gabaix’s article for the SPY ETF"
   ]
  },
  {
   "cell_type": "markdown",
   "metadata": {},
   "source": [
    "### Step 1: To the sorted_return table, we add a new column called 'ln[P(|r|>x)]' by taking the log of CDF & 1-CDF column from the same table."
   ]
  },
  {
   "cell_type": "code",
   "execution_count": 25,
   "metadata": {},
   "outputs": [
    {
     "data": {
      "text/html": [
       "<div>\n",
       "<style scoped>\n",
       "    .dataframe tbody tr th:only-of-type {\n",
       "        vertical-align: middle;\n",
       "    }\n",
       "\n",
       "    .dataframe tbody tr th {\n",
       "        vertical-align: top;\n",
       "    }\n",
       "\n",
       "    .dataframe thead th {\n",
       "        text-align: right;\n",
       "    }\n",
       "</style>\n",
       "<table border=\"1\" class=\"dataframe\">\n",
       "  <thead>\n",
       "    <tr style=\"text-align: right;\">\n",
       "      <th></th>\n",
       "      <th>Return %</th>\n",
       "      <th>CDF &amp; 1-CDF</th>\n",
       "      <th>CDFs in log10 Scale</th>\n",
       "      <th>Norm CDF of Returns</th>\n",
       "      <th>Norm CDF of Returns in log10 Scale</th>\n",
       "      <th>ln[P(|r|&gt;x)]</th>\n",
       "    </tr>\n",
       "  </thead>\n",
       "  <tbody>\n",
       "    <tr>\n",
       "      <th>3958</th>\n",
       "      <td>-9.844768</td>\n",
       "      <td>0.000149</td>\n",
       "      <td>-3.826593</td>\n",
       "      <td>3.266184e-18</td>\n",
       "      <td>-17.485959</td>\n",
       "      <td>-8.811056</td>\n",
       "    </tr>\n",
       "    <tr>\n",
       "      <th>3990</th>\n",
       "      <td>-8.857804</td>\n",
       "      <td>0.000298</td>\n",
       "      <td>-3.525563</td>\n",
       "      <td>4.176913e-15</td>\n",
       "      <td>-14.379145</td>\n",
       "      <td>-8.117909</td>\n",
       "    </tr>\n",
       "    <tr>\n",
       "      <th>3946</th>\n",
       "      <td>-7.836161</td>\n",
       "      <td>0.000447</td>\n",
       "      <td>-3.349472</td>\n",
       "      <td>3.184902e-12</td>\n",
       "      <td>-11.496904</td>\n",
       "      <td>-7.712444</td>\n",
       "    </tr>\n",
       "    <tr>\n",
       "      <th>3984</th>\n",
       "      <td>-7.423317</td>\n",
       "      <td>0.000596</td>\n",
       "      <td>-3.224533</td>\n",
       "      <td>3.730536e-11</td>\n",
       "      <td>-10.428229</td>\n",
       "      <td>-7.424762</td>\n",
       "    </tr>\n",
       "    <tr>\n",
       "      <th>1199</th>\n",
       "      <td>-7.247340</td>\n",
       "      <td>0.000745</td>\n",
       "      <td>-3.127623</td>\n",
       "      <td>1.024550e-10</td>\n",
       "      <td>-9.989467</td>\n",
       "      <td>-7.201618</td>\n",
       "    </tr>\n",
       "  </tbody>\n",
       "</table>\n",
       "</div>"
      ],
      "text/plain": [
       "      Return %  CDF & 1-CDF  CDFs in log10 Scale  Norm CDF of Returns  \\\n",
       "3958 -9.844768     0.000149            -3.826593         3.266184e-18   \n",
       "3990 -8.857804     0.000298            -3.525563         4.176913e-15   \n",
       "3946 -7.836161     0.000447            -3.349472         3.184902e-12   \n",
       "3984 -7.423317     0.000596            -3.224533         3.730536e-11   \n",
       "1199 -7.247340     0.000745            -3.127623         1.024550e-10   \n",
       "\n",
       "      Norm CDF of Returns in log10 Scale  ln[P(|r|>x)]  \n",
       "3958                          -17.485959     -8.811056  \n",
       "3990                          -14.379145     -8.117909  \n",
       "3946                          -11.496904     -7.712444  \n",
       "3984                          -10.428229     -7.424762  \n",
       "1199                           -9.989467     -7.201618  "
      ]
     },
     "execution_count": 25,
     "metadata": {},
     "output_type": "execute_result"
    }
   ],
   "source": [
    "sorted_return['ln[P(|r|>x)]']=np.log(sorted_return['CDF & 1-CDF'])\n",
    "sorted_return.head()"
   ]
  },
  {
   "cell_type": "markdown",
   "metadata": {},
   "source": [
    "### Step 2: To the same sorted_return table, add \"|x|\"  by applying the normalizing formula provided in the problem set. Then add the \"ln(|x|)\" column by taking natural log of the |x| column elementwise."
   ]
  },
  {
   "cell_type": "code",
   "execution_count": 26,
   "metadata": {},
   "outputs": [
    {
     "data": {
      "text/html": [
       "<div>\n",
       "<style scoped>\n",
       "    .dataframe tbody tr th:only-of-type {\n",
       "        vertical-align: middle;\n",
       "    }\n",
       "\n",
       "    .dataframe tbody tr th {\n",
       "        vertical-align: top;\n",
       "    }\n",
       "\n",
       "    .dataframe thead th {\n",
       "        text-align: right;\n",
       "    }\n",
       "</style>\n",
       "<table border=\"1\" class=\"dataframe\">\n",
       "  <thead>\n",
       "    <tr style=\"text-align: right;\">\n",
       "      <th></th>\n",
       "      <th>Return %</th>\n",
       "      <th>CDF &amp; 1-CDF</th>\n",
       "      <th>CDFs in log10 Scale</th>\n",
       "      <th>Norm CDF of Returns</th>\n",
       "      <th>Norm CDF of Returns in log10 Scale</th>\n",
       "      <th>ln[P(|r|&gt;x)]</th>\n",
       "      <th>|x|</th>\n",
       "      <th>ln(|x|)</th>\n",
       "    </tr>\n",
       "  </thead>\n",
       "  <tbody>\n",
       "    <tr>\n",
       "      <th>3958</th>\n",
       "      <td>-9.844768</td>\n",
       "      <td>0.000149</td>\n",
       "      <td>-3.826593</td>\n",
       "      <td>3.266184e-18</td>\n",
       "      <td>-17.485959</td>\n",
       "      <td>-8.811056</td>\n",
       "      <td>8.622822</td>\n",
       "      <td>2.154412</td>\n",
       "    </tr>\n",
       "    <tr>\n",
       "      <th>3990</th>\n",
       "      <td>-8.857804</td>\n",
       "      <td>0.000298</td>\n",
       "      <td>-3.525563</td>\n",
       "      <td>4.176913e-15</td>\n",
       "      <td>-14.379145</td>\n",
       "      <td>-8.117909</td>\n",
       "      <td>7.762094</td>\n",
       "      <td>2.049252</td>\n",
       "    </tr>\n",
       "    <tr>\n",
       "      <th>3946</th>\n",
       "      <td>-7.836161</td>\n",
       "      <td>0.000447</td>\n",
       "      <td>-3.349472</td>\n",
       "      <td>3.184902e-12</td>\n",
       "      <td>-11.496904</td>\n",
       "      <td>-7.712444</td>\n",
       "      <td>6.871124</td>\n",
       "      <td>1.927328</td>\n",
       "    </tr>\n",
       "    <tr>\n",
       "      <th>3984</th>\n",
       "      <td>-7.423317</td>\n",
       "      <td>0.000596</td>\n",
       "      <td>-3.224533</td>\n",
       "      <td>3.730536e-11</td>\n",
       "      <td>-10.428229</td>\n",
       "      <td>-7.424762</td>\n",
       "      <td>6.511083</td>\n",
       "      <td>1.873506</td>\n",
       "    </tr>\n",
       "    <tr>\n",
       "      <th>1199</th>\n",
       "      <td>-7.247340</td>\n",
       "      <td>0.000745</td>\n",
       "      <td>-3.127623</td>\n",
       "      <td>1.024550e-10</td>\n",
       "      <td>-9.989467</td>\n",
       "      <td>-7.201618</td>\n",
       "      <td>6.357615</td>\n",
       "      <td>1.849653</td>\n",
       "    </tr>\n",
       "    <tr>\n",
       "      <th>1411</th>\n",
       "      <td>-7.134220</td>\n",
       "      <td>0.000894</td>\n",
       "      <td>-3.048442</td>\n",
       "      <td>1.937724e-10</td>\n",
       "      <td>-9.712708</td>\n",
       "      <td>-7.019297</td>\n",
       "      <td>6.258963</td>\n",
       "      <td>1.834015</td>\n",
       "    </tr>\n",
       "    <tr>\n",
       "      <th>3954</th>\n",
       "      <td>-6.983904</td>\n",
       "      <td>0.001044</td>\n",
       "      <td>-2.981495</td>\n",
       "      <td>4.453071e-10</td>\n",
       "      <td>-9.351340</td>\n",
       "      <td>-6.865146</td>\n",
       "      <td>6.127873</td>\n",
       "      <td>1.812848</td>\n",
       "    </tr>\n",
       "    <tr>\n",
       "      <th>4666</th>\n",
       "      <td>-6.512325</td>\n",
       "      <td>0.001193</td>\n",
       "      <td>-2.923503</td>\n",
       "      <td>5.433474e-09</td>\n",
       "      <td>-8.264922</td>\n",
       "      <td>-6.731615</td>\n",
       "      <td>5.716611</td>\n",
       "      <td>1.743376</td>\n",
       "    </tr>\n",
       "    <tr>\n",
       "      <th>3983</th>\n",
       "      <td>-6.407903</td>\n",
       "      <td>0.001342</td>\n",
       "      <td>-2.872351</td>\n",
       "      <td>9.246164e-09</td>\n",
       "      <td>-8.034038</td>\n",
       "      <td>-6.613832</td>\n",
       "      <td>5.625545</td>\n",
       "      <td>1.727318</td>\n",
       "    </tr>\n",
       "    <tr>\n",
       "      <th>1821</th>\n",
       "      <td>-5.719237</td>\n",
       "      <td>0.001491</td>\n",
       "      <td>-2.826593</td>\n",
       "      <td>2.517657e-07</td>\n",
       "      <td>-6.599003</td>\n",
       "      <td>-6.508471</td>\n",
       "      <td>5.024962</td>\n",
       "      <td>1.614418</td>\n",
       "    </tr>\n",
       "    <tr>\n",
       "      <th>3974</th>\n",
       "      <td>-5.541117</td>\n",
       "      <td>0.001640</td>\n",
       "      <td>-2.785200</td>\n",
       "      <td>5.590525e-07</td>\n",
       "      <td>-6.252547</td>\n",
       "      <td>-6.413161</td>\n",
       "      <td>4.869625</td>\n",
       "      <td>1.583017</td>\n",
       "    </tr>\n",
       "    <tr>\n",
       "      <th>3963</th>\n",
       "      <td>-5.445443</td>\n",
       "      <td>0.001789</td>\n",
       "      <td>-2.747412</td>\n",
       "      <td>8.498965e-07</td>\n",
       "      <td>-6.070634</td>\n",
       "      <td>-6.326149</td>\n",
       "      <td>4.786187</td>\n",
       "      <td>1.565734</td>\n",
       "    </tr>\n",
       "    <tr>\n",
       "      <th>4023</th>\n",
       "      <td>-5.278625</td>\n",
       "      <td>0.001938</td>\n",
       "      <td>-2.712650</td>\n",
       "      <td>1.736108e-06</td>\n",
       "      <td>-5.760423</td>\n",
       "      <td>-6.246107</td>\n",
       "      <td>4.640706</td>\n",
       "      <td>1.534866</td>\n",
       "    </tr>\n",
       "    <tr>\n",
       "      <th>2175</th>\n",
       "      <td>-5.224898</td>\n",
       "      <td>0.002087</td>\n",
       "      <td>-2.680465</td>\n",
       "      <td>2.175707e-06</td>\n",
       "      <td>-5.662400</td>\n",
       "      <td>-6.171999</td>\n",
       "      <td>4.593850</td>\n",
       "      <td>1.524719</td>\n",
       "    </tr>\n",
       "    <tr>\n",
       "      <th>3951</th>\n",
       "      <td>-5.093343</td>\n",
       "      <td>0.002236</td>\n",
       "      <td>-2.650502</td>\n",
       "      <td>3.747525e-06</td>\n",
       "      <td>-5.426255</td>\n",
       "      <td>-6.103006</td>\n",
       "      <td>4.479123</td>\n",
       "      <td>1.499427</td>\n",
       "    </tr>\n",
       "    <tr>\n",
       "      <th>3965</th>\n",
       "      <td>-5.071437</td>\n",
       "      <td>0.002385</td>\n",
       "      <td>-2.622473</td>\n",
       "      <td>4.097634e-06</td>\n",
       "      <td>-5.387467</td>\n",
       "      <td>-6.038467</td>\n",
       "      <td>4.460018</td>\n",
       "      <td>1.495153</td>\n",
       "    </tr>\n",
       "    <tr>\n",
       "      <th>3980</th>\n",
       "      <td>-4.990671</td>\n",
       "      <td>0.002534</td>\n",
       "      <td>-2.596144</td>\n",
       "      <td>5.678423e-06</td>\n",
       "      <td>-5.245772</td>\n",
       "      <td>-5.977843</td>\n",
       "      <td>4.389583</td>\n",
       "      <td>1.479234</td>\n",
       "    </tr>\n",
       "    <tr>\n",
       "      <th>3936</th>\n",
       "      <td>-4.758506</td>\n",
       "      <td>0.002683</td>\n",
       "      <td>-2.571321</td>\n",
       "      <td>1.412632e-05</td>\n",
       "      <td>-4.849971</td>\n",
       "      <td>-5.920684</td>\n",
       "      <td>4.187112</td>\n",
       "      <td>1.432011</td>\n",
       "    </tr>\n",
       "    <tr>\n",
       "      <th>1409</th>\n",
       "      <td>-4.707233</td>\n",
       "      <td>0.002832</td>\n",
       "      <td>-2.547839</td>\n",
       "      <td>1.718473e-05</td>\n",
       "      <td>-4.764857</td>\n",
       "      <td>-5.866617</td>\n",
       "      <td>4.142397</td>\n",
       "      <td>1.421275</td>\n",
       "    </tr>\n",
       "    <tr>\n",
       "      <th>4664</th>\n",
       "      <td>-4.684153</td>\n",
       "      <td>0.002982</td>\n",
       "      <td>-2.525563</td>\n",
       "      <td>1.875792e-05</td>\n",
       "      <td>-4.726815</td>\n",
       "      <td>-5.815324</td>\n",
       "      <td>4.122269</td>\n",
       "      <td>1.416404</td>\n",
       "    </tr>\n",
       "  </tbody>\n",
       "</table>\n",
       "</div>"
      ],
      "text/plain": [
       "      Return %  CDF & 1-CDF  CDFs in log10 Scale  Norm CDF of Returns  \\\n",
       "3958 -9.844768     0.000149            -3.826593         3.266184e-18   \n",
       "3990 -8.857804     0.000298            -3.525563         4.176913e-15   \n",
       "3946 -7.836161     0.000447            -3.349472         3.184902e-12   \n",
       "3984 -7.423317     0.000596            -3.224533         3.730536e-11   \n",
       "1199 -7.247340     0.000745            -3.127623         1.024550e-10   \n",
       "1411 -7.134220     0.000894            -3.048442         1.937724e-10   \n",
       "3954 -6.983904     0.001044            -2.981495         4.453071e-10   \n",
       "4666 -6.512325     0.001193            -2.923503         5.433474e-09   \n",
       "3983 -6.407903     0.001342            -2.872351         9.246164e-09   \n",
       "1821 -5.719237     0.001491            -2.826593         2.517657e-07   \n",
       "3974 -5.541117     0.001640            -2.785200         5.590525e-07   \n",
       "3963 -5.445443     0.001789            -2.747412         8.498965e-07   \n",
       "4023 -5.278625     0.001938            -2.712650         1.736108e-06   \n",
       "2175 -5.224898     0.002087            -2.680465         2.175707e-06   \n",
       "3951 -5.093343     0.002236            -2.650502         3.747525e-06   \n",
       "3965 -5.071437     0.002385            -2.622473         4.097634e-06   \n",
       "3980 -4.990671     0.002534            -2.596144         5.678423e-06   \n",
       "3936 -4.758506     0.002683            -2.571321         1.412632e-05   \n",
       "1409 -4.707233     0.002832            -2.547839         1.718473e-05   \n",
       "4664 -4.684153     0.002982            -2.525563         1.875792e-05   \n",
       "\n",
       "      Norm CDF of Returns in log10 Scale  ln[P(|r|>x)]       |x|   ln(|x|)  \n",
       "3958                          -17.485959     -8.811056  8.622822  2.154412  \n",
       "3990                          -14.379145     -8.117909  7.762094  2.049252  \n",
       "3946                          -11.496904     -7.712444  6.871124  1.927328  \n",
       "3984                          -10.428229     -7.424762  6.511083  1.873506  \n",
       "1199                           -9.989467     -7.201618  6.357615  1.849653  \n",
       "1411                           -9.712708     -7.019297  6.258963  1.834015  \n",
       "3954                           -9.351340     -6.865146  6.127873  1.812848  \n",
       "4666                           -8.264922     -6.731615  5.716611  1.743376  \n",
       "3983                           -8.034038     -6.613832  5.625545  1.727318  \n",
       "1821                           -6.599003     -6.508471  5.024962  1.614418  \n",
       "3974                           -6.252547     -6.413161  4.869625  1.583017  \n",
       "3963                           -6.070634     -6.326149  4.786187  1.565734  \n",
       "4023                           -5.760423     -6.246107  4.640706  1.534866  \n",
       "2175                           -5.662400     -6.171999  4.593850  1.524719  \n",
       "3951                           -5.426255     -6.103006  4.479123  1.499427  \n",
       "3965                           -5.387467     -6.038467  4.460018  1.495153  \n",
       "3980                           -5.245772     -5.977843  4.389583  1.479234  \n",
       "3936                           -4.849971     -5.920684  4.187112  1.432011  \n",
       "1409                           -4.764857     -5.866617  4.142397  1.421275  \n",
       "4664                           -4.726815     -5.815324  4.122269  1.416404  "
      ]
     },
     "execution_count": 26,
     "metadata": {},
     "output_type": "execute_result"
    }
   ],
   "source": [
    "r_array=sorted_return['Return %']\n",
    "x_array=[]\n",
    "for i in range(len(r_array)):\n",
    "    x_array.append(np.abs((r_array.values[i]-mean))/std)\n",
    "sorted_return['|x|']=x_array\n",
    "sorted_return['ln(|x|)']=np.log(x_array)\n",
    "sorted_return.head(20)"
   ]
  },
  {
   "cell_type": "markdown",
   "metadata": {},
   "source": [
    "### Step 3: Extract the columns needed for graphing and store into a new table called new_selected_table just for easier manipulation and better viewing"
   ]
  },
  {
   "cell_type": "code",
   "execution_count": 27,
   "metadata": {},
   "outputs": [
    {
     "data": {
      "text/html": [
       "<div>\n",
       "<style scoped>\n",
       "    .dataframe tbody tr th:only-of-type {\n",
       "        vertical-align: middle;\n",
       "    }\n",
       "\n",
       "    .dataframe tbody tr th {\n",
       "        vertical-align: top;\n",
       "    }\n",
       "\n",
       "    .dataframe thead th {\n",
       "        text-align: right;\n",
       "    }\n",
       "</style>\n",
       "<table border=\"1\" class=\"dataframe\">\n",
       "  <thead>\n",
       "    <tr style=\"text-align: right;\">\n",
       "      <th></th>\n",
       "      <th>ln[P(|r|&gt;x)]</th>\n",
       "      <th>|x|</th>\n",
       "      <th>ln(|x|)</th>\n",
       "    </tr>\n",
       "  </thead>\n",
       "  <tbody>\n",
       "    <tr>\n",
       "      <th>3958</th>\n",
       "      <td>-8.811056</td>\n",
       "      <td>8.622822</td>\n",
       "      <td>2.154412</td>\n",
       "    </tr>\n",
       "    <tr>\n",
       "      <th>3990</th>\n",
       "      <td>-8.117909</td>\n",
       "      <td>7.762094</td>\n",
       "      <td>2.049252</td>\n",
       "    </tr>\n",
       "    <tr>\n",
       "      <th>3946</th>\n",
       "      <td>-7.712444</td>\n",
       "      <td>6.871124</td>\n",
       "      <td>1.927328</td>\n",
       "    </tr>\n",
       "    <tr>\n",
       "      <th>3984</th>\n",
       "      <td>-7.424762</td>\n",
       "      <td>6.511083</td>\n",
       "      <td>1.873506</td>\n",
       "    </tr>\n",
       "    <tr>\n",
       "      <th>1199</th>\n",
       "      <td>-7.201618</td>\n",
       "      <td>6.357615</td>\n",
       "      <td>1.849653</td>\n",
       "    </tr>\n",
       "  </tbody>\n",
       "</table>\n",
       "</div>"
      ],
      "text/plain": [
       "      ln[P(|r|>x)]       |x|   ln(|x|)\n",
       "3958     -8.811056  8.622822  2.154412\n",
       "3990     -8.117909  7.762094  2.049252\n",
       "3946     -7.712444  6.871124  1.927328\n",
       "3984     -7.424762  6.511083  1.873506\n",
       "1199     -7.201618  6.357615  1.849653"
      ]
     },
     "execution_count": 27,
     "metadata": {},
     "output_type": "execute_result"
    }
   ],
   "source": [
    "selected_table=sorted_return[['ln[P(|r|>x)]','|x|','ln(|x|)']]\n",
    "new_selected_table=selected_table[selected_table['|x|']>2]\n",
    "new_selected_table.head()"
   ]
  },
  {
   "cell_type": "markdown",
   "metadata": {},
   "source": [
    "### Step 4: Plot the 'ln[P(|r|>x)]' vs 'ln(|x|) graph using a scatter plot."
   ]
  },
  {
   "cell_type": "code",
   "execution_count": 28,
   "metadata": {},
   "outputs": [
    {
     "data": {
      "image/png": "[encoded data removed]",
      "text/plain": [
       "<Figure size 792x488.88 with 1 Axes>"
      ]
     },
     "metadata": {
      "needs_background": "light"
     },
     "output_type": "display_data"
    }
   ],
   "source": [
    "fig, ax = plt.subplots(figsize=(11,6.79))\n",
    "plt.scatter(x=new_selected_table['ln(|x|)'],y=new_selected_table['ln[P(|r|>x)]'],label='Power Law')\n",
    "\n",
    "plt.title('Power Law of Fat Tails',fontsize=22)\n",
    "\n",
    "ax.set_ylabel('ln[P(|r|>x)]',fontsize=18)\n",
    "\n",
    "ax.set_xlabel('ln(|x|)',fontsize=18);\n",
    "ax.legend(loc='upper right');"
   ]
  },
  {
   "cell_type": "markdown",
   "metadata": {},
   "source": [
    "### Step 5: Use the Scipy library to do a linear regression analysis and find the slope and intercept needed for graphing the trend line. "
   ]
  },
  {
   "cell_type": "code",
   "execution_count": 29,
   "metadata": {},
   "outputs": [],
   "source": [
    "slope, intercept, r_value, p_value, std_err = stats.linregress(new_selected_table['ln(|x|)'],\n",
    "                                                               new_selected_table['ln[P(|r|>x)]'])"
   ]
  },
  {
   "cell_type": "markdown",
   "metadata": {},
   "source": [
    "### Step 6: Add the trend line subplot to the Power Law of Fat Tails plot by using the Seaborn Regplot method. Then get the equation of the trendline"
   ]
  },
  {
   "cell_type": "code",
   "execution_count": 30,
   "metadata": {},
   "outputs": [
    {
     "data": {
      "image/png": "[encoded data removed]",
      "text/plain": [
       "<Figure size 792x488.88 with 1 Axes>"
      ]
     },
     "metadata": {
      "needs_background": "light"
     },
     "output_type": "display_data"
    }
   ],
   "source": [
    "fig, ax = plt.subplots(figsize=(11,6.79))\n",
    "\n",
    "sns.regplot(x='ln(|x|)',y='ln[P(|r|>x)]',data=new_selected_table, \n",
    "            line_kws={'label':\"y={0:.1f}x+{1:.1f}\".format(slope,intercept)})\n",
    "\n",
    "plt.title('Power Law of Fat Tails',fontsize=22)\n",
    "\n",
    "ax.set_ylabel('ln[P(|r|>x)]',fontsize=18)\n",
    "\n",
    "ax.legend()\n",
    "\n",
    "ax.set_xlabel('ln(|x|)',fontsize=18);"
   ]
  },
  {
   "cell_type": "markdown",
   "metadata": {},
   "source": [
    "### Step 7: Statistics Summary. Print out the Zeta r and R squared values for the last question of problem 2."
   ]
  },
  {
   "cell_type": "code",
   "execution_count": 31,
   "metadata": {},
   "outputs": [
    {
     "name": "stdout",
     "output_type": "stream",
     "text": [
      "slope (Zeta r): -3.023655993444977\n",
      "r-squared: 0.9794848331908175\n"
     ]
    }
   ],
   "source": [
    "print(\"slope (Zeta r):\", slope)\n",
    "print (\"r-squared:\", r_value**2)"
   ]
  },
  {
   "cell_type": "code",
   "execution_count": null,
   "metadata": {},
   "outputs": [],
   "source": []
  }
 ],
 "metadata": {
  "kernelspec": {
   "display_name": "Python 3",
   "language": "python",
   "name": "python3"
  },
  "language_info": {
   "codemirror_mode": {
    "name": "ipython",
    "version": 3
   },
   "file_extension": ".py",
   "mimetype": "text/x-python",
   "name": "python",
   "nbconvert_exporter": "python",
   "pygments_lexer": "ipython3",
   "version": "3.6.9"
  }
 },
 "nbformat": 4,
 "nbformat_minor": 2
}
